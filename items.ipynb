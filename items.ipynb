{
 "metadata": {
  "language_info": {
   "codemirror_mode": {
    "name": "ipython",
    "version": 3
   },
   "file_extension": ".py",
   "mimetype": "text/x-python",
   "name": "python",
   "nbconvert_exporter": "python",
   "pygments_lexer": "ipython3",
   "version": "3.8.6-final"
  },
  "orig_nbformat": 2,
  "kernelspec": {
   "name": "python386jvsc74a57bd0adec68d5d8f86c04e00bdfcc272eb9a1a320647350f49cbe1ec4dd83b70c43c6",
   "display_name": "Python 3.8.6 64-bit ('WilyLynx': virtualenv)"
  }
 },
 "nbformat": 4,
 "nbformat_minor": 2,
 "cells": [
  {
   "cell_type": "code",
   "execution_count": 18,
   "metadata": {},
   "outputs": [],
   "source": [
    "import json\n",
    "import pandas as pd"
   ]
  },
  {
   "cell_type": "code",
   "execution_count": 3,
   "metadata": {},
   "outputs": [
    {
     "output_type": "execute_result",
     "data": {
      "text/plain": [
       "dict_keys(['type', 'version', 'basic', 'data', 'groups', 'tree'])"
      ]
     },
     "metadata": {},
     "execution_count": 3
    }
   ],
   "source": [
    "with open('item.json', 'r') as f:\n",
    "    data = json.load(f)\n",
    "data.keys()"
   ]
  },
  {
   "cell_type": "code",
   "execution_count": 7,
   "metadata": {
    "tags": []
   },
   "outputs": [
    {
     "output_type": "execute_result",
     "data": {
      "text/plain": [
       "'item'"
      ]
     },
     "metadata": {},
     "execution_count": 7
    }
   ],
   "source": [
    "data['type']"
   ]
  },
  {
   "cell_type": "code",
   "execution_count": 9,
   "metadata": {},
   "outputs": [
    {
     "output_type": "execute_result",
     "data": {
      "text/plain": [
       "'11.7.1'"
      ]
     },
     "metadata": {},
     "execution_count": 9
    }
   ],
   "source": [
    "data['version']"
   ]
  },
  {
   "cell_type": "code",
   "execution_count": 10,
   "metadata": {},
   "outputs": [
    {
     "output_type": "execute_result",
     "data": {
      "text/plain": [
       "{'name': '',\n",
       " 'rune': {'isrune': False, 'tier': 1, 'type': 'red'},\n",
       " 'gold': {'base': 0, 'total': 0, 'sell': 0, 'purchasable': False},\n",
       " 'group': '',\n",
       " 'description': '',\n",
       " 'colloq': ';',\n",
       " 'plaintext': '',\n",
       " 'consumed': False,\n",
       " 'stacks': 1,\n",
       " 'depth': 1,\n",
       " 'consumeOnFull': False,\n",
       " 'from': [],\n",
       " 'into': [],\n",
       " 'specialRecipe': 0,\n",
       " 'inStore': True,\n",
       " 'hideFromAll': False,\n",
       " 'requiredChampion': '',\n",
       " 'requiredAlly': '',\n",
       " 'stats': {'FlatHPPoolMod': 0,\n",
       "  'rFlatHPModPerLevel': 0,\n",
       "  'FlatMPPoolMod': 0,\n",
       "  'rFlatMPModPerLevel': 0,\n",
       "  'PercentHPPoolMod': 0,\n",
       "  'PercentMPPoolMod': 0,\n",
       "  'FlatHPRegenMod': 0,\n",
       "  'rFlatHPRegenModPerLevel': 0,\n",
       "  'PercentHPRegenMod': 0,\n",
       "  'FlatMPRegenMod': 0,\n",
       "  'rFlatMPRegenModPerLevel': 0,\n",
       "  'PercentMPRegenMod': 0,\n",
       "  'FlatArmorMod': 0,\n",
       "  'rFlatArmorModPerLevel': 0,\n",
       "  'PercentArmorMod': 0,\n",
       "  'rFlatArmorPenetrationMod': 0,\n",
       "  'rFlatArmorPenetrationModPerLevel': 0,\n",
       "  'rPercentArmorPenetrationMod': 0,\n",
       "  'rPercentArmorPenetrationModPerLevel': 0,\n",
       "  'FlatPhysicalDamageMod': 0,\n",
       "  'rFlatPhysicalDamageModPerLevel': 0,\n",
       "  'PercentPhysicalDamageMod': 0,\n",
       "  'FlatMagicDamageMod': 0,\n",
       "  'rFlatMagicDamageModPerLevel': 0,\n",
       "  'PercentMagicDamageMod': 0,\n",
       "  'FlatMovementSpeedMod': 0,\n",
       "  'rFlatMovementSpeedModPerLevel': 0,\n",
       "  'PercentMovementSpeedMod': 0,\n",
       "  'rPercentMovementSpeedModPerLevel': 0,\n",
       "  'FlatAttackSpeedMod': 0,\n",
       "  'PercentAttackSpeedMod': 0,\n",
       "  'rPercentAttackSpeedModPerLevel': 0,\n",
       "  'rFlatDodgeMod': 0,\n",
       "  'rFlatDodgeModPerLevel': 0,\n",
       "  'PercentDodgeMod': 0,\n",
       "  'FlatCritChanceMod': 0,\n",
       "  'rFlatCritChanceModPerLevel': 0,\n",
       "  'PercentCritChanceMod': 0,\n",
       "  'FlatCritDamageMod': 0,\n",
       "  'rFlatCritDamageModPerLevel': 0,\n",
       "  'PercentCritDamageMod': 0,\n",
       "  'FlatBlockMod': 0,\n",
       "  'PercentBlockMod': 0,\n",
       "  'FlatSpellBlockMod': 0,\n",
       "  'rFlatSpellBlockModPerLevel': 0,\n",
       "  'PercentSpellBlockMod': 0,\n",
       "  'FlatEXPBonus': 0,\n",
       "  'PercentEXPBonus': 0,\n",
       "  'rPercentCooldownMod': 0,\n",
       "  'rPercentCooldownModPerLevel': 0,\n",
       "  'rFlatTimeDeadMod': 0,\n",
       "  'rFlatTimeDeadModPerLevel': 0,\n",
       "  'rPercentTimeDeadMod': 0,\n",
       "  'rPercentTimeDeadModPerLevel': 0,\n",
       "  'rFlatGoldPer10Mod': 0,\n",
       "  'rFlatMagicPenetrationMod': 0,\n",
       "  'rFlatMagicPenetrationModPerLevel': 0,\n",
       "  'rPercentMagicPenetrationMod': 0,\n",
       "  'rPercentMagicPenetrationModPerLevel': 0,\n",
       "  'FlatEnergyRegenMod': 0,\n",
       "  'rFlatEnergyRegenModPerLevel': 0,\n",
       "  'FlatEnergyPoolMod': 0,\n",
       "  'rFlatEnergyModPerLevel': 0,\n",
       "  'PercentLifeStealMod': 0,\n",
       "  'PercentSpellVampMod': 0},\n",
       " 'tags': [],\n",
       " 'maps': {'1': True, '8': True, '10': True, '12': True}}"
      ]
     },
     "metadata": {},
     "execution_count": 10
    }
   ],
   "source": [
    "data['basic']"
   ]
  },
  {
   "cell_type": "code",
   "execution_count": 12,
   "metadata": {},
   "outputs": [
    {
     "output_type": "execute_result",
     "data": {
      "text/plain": [
       "dict_keys(['1001', '1004', '1006', '1011', '1018', '1026', '1027', '1028', '1029', '1031', '1033', '1035', '1036', '1037', '1038', '1039', '1042', '1043', '1052', '1053', '1054', '1055', '1056', '1057', '1058', '1082', '1083', '2003', '2010', '2015', '2031', '2033', '2051', '2052', '2055', '2065', '2138', '2139', '2140', '2403', '2419', '2420', '2421', '2422', '2423', '2424', '3001', '3003', '3004', '3006', '3009', '3011', '3020', '3024', '3026', '3031', '3033', '3035', '3036', '3040', '3041', '3042', '3044', '3046', '3047', '3050', '3051', '3053', '3057', '3065', '3066', '3067', '3068', '3070', '3071', '3072', '3074', '3075', '3076', '3077', '3078', '3082', '3083', '3085', '3086', '3089', '3091', '3094', '3095', '3100', '3102', '3105', '3107', '3108', '3109', '3110', '3111', '3112', '3113', '3114', '3115', '3116', '3117', '3123', '3124', '3133', '3134', '3135', '3139', '3140', '3142', '3143', '3145', '3152', '3153', '3155', '3156', '3157', '3158', '3165', '3177', '3179', '3181', '3184', '3190', '3191', '3193', '3211', '3222', '3330', '3340', '3363', '3364', '3400', '3504', '3508', '3513', '3599', '3600', '3742', '3748', '3801', '3802', '3814', '3850', '3851', '3853', '3854', '3855', '3857', '3858', '3859', '3860', '3862', '3863', '3864', '3916', '4005', '4401', '4403', '4628', '4629', '4630', '4632', '4633', '4635', '4636', '4637', '4638', '4641', '4642', '4643', '6029', '6035', '6333', '6609', '6616', '6617', '6630', '6631', '6632', '6653', '6655', '6656', '6660', '6662', '6664', '6670', '6671', '6672', '6673', '6675', '6676', '6677', '6691', '6692', '6693', '6694', '6695'])"
      ]
     },
     "metadata": {},
     "execution_count": 12
    }
   ],
   "source": [
    "data['data'].keys()"
   ]
  },
  {
   "cell_type": "code",
   "execution_count": 13,
   "metadata": {},
   "outputs": [
    {
     "output_type": "execute_result",
     "data": {
      "text/plain": [
       "[{'id': 'HuntersTalismanGroup', 'MaxGroupOwnable': '1'},\n",
       " {'id': 'HuntersMacheteGroup', 'MaxGroupOwnable': '1'},\n",
       " {'id': 'BaseJungleItems', 'MaxGroupOwnable': '-1'},\n",
       " {'id': 'Boots', 'MaxGroupOwnable': '1'},\n",
       " {'id': 'BootsOfSpeed', 'MaxGroupOwnable': '-1'},\n",
       " {'id': 'BootsWithoutActives', 'MaxGroupOwnable': '1'},\n",
       " {'id': 'BuildsFromStopwatchGroup', 'MaxGroupOwnable': '-1'},\n",
       " {'id': 'Consumable', 'MaxGroupOwnable': '-1'},\n",
       " {'id': 'ControlWardItems', 'MaxGroupOwnable': '1'},\n",
       " {'id': 'Default', 'MaxGroupOwnable': '-1'},\n",
       " {'id': 'DisabledOnFIRSTBLOODMode', 'MaxGroupOwnable': '-1'},\n",
       " {'id': 'DoransItems', 'MaxGroupOwnable': '-1'},\n",
       " {'id': 'Elixir', 'MaxGroupOwnable': '-1'},\n",
       " {'id': 'GangplankRUpgrade01', 'MaxGroupOwnable': '1'},\n",
       " {'id': 'GangplankRUpgrade02', 'MaxGroupOwnable': '1'},\n",
       " {'id': 'GangplankRUpgrade03', 'MaxGroupOwnable': '1'},\n",
       " {'id': 'Glory', 'MaxGroupOwnable': '1'},\n",
       " {'id': 'GoldItems', 'MaxGroupOwnable': '1'},\n",
       " {'id': 'GuardianItems', 'MaxGroupOwnable': '1'},\n",
       " {'id': 'ItemGroupSwapToSummonerDot', 'MaxGroupOwnable': '-1'},\n",
       " {'id': 'ItemGroupSwapToSummonerFlash', 'MaxGroupOwnable': '-1'},\n",
       " {'id': 'ItemGroupSwapToSummonerHaste', 'MaxGroupOwnable': '-1'},\n",
       " {'id': 'ItemGroupSwapToSummonerHeal', 'MaxGroupOwnable': '-1'},\n",
       " {'id': 'ItemGroupSwapToSummonerSmite', 'MaxGroupOwnable': '-1'},\n",
       " {'id': 'ItemGroupSwapToSummonerTeleport', 'MaxGroupOwnable': '-1'},\n",
       " {'id': 'JungleEnchantments', 'MaxGroupOwnable': '1'},\n",
       " {'id': 'JungleItems', 'MaxGroupOwnable': '1'},\n",
       " {'id': 'LastWhisper', 'MaxGroupOwnable': '1'},\n",
       " {'id': 'LegendaryClearingItems', 'MaxGroupOwnable': '1'},\n",
       " {'id': 'LethalityItems', 'MaxGroupOwnable': '-1'},\n",
       " {'id': 'LifelineItems', 'MaxGroupOwnable': '1'},\n",
       " {'id': 'MarksmanCapstone', 'MaxGroupOwnable': '1'},\n",
       " {'id': 'MythicItems', 'MaxGroupOwnable': '1'},\n",
       " {'id': 'NewDoransItems', 'MaxGroupOwnable': '-1'},\n",
       " {'id': 'NonItem', 'MaxGroupOwnable': '-1'},\n",
       " {'id': 'OdysseySustainItems', 'MaxGroupOwnable': '-1'},\n",
       " {'id': 'OrnnItems', 'MaxGroupOwnable': '1'},\n",
       " {'id': 'PerksElixir', 'MaxGroupOwnable': '0'},\n",
       " {'id': 'PerksElixirAdvanced', 'MaxGroupOwnable': '0'},\n",
       " {'id': 'Potion', 'MaxGroupOwnable': '1'},\n",
       " {'id': 'Quicksilver', 'MaxGroupOwnable': '1'},\n",
       " {'id': 'SLIMEStarterItems', 'MaxGroupOwnable': '1'},\n",
       " {'id': 'SRIChampItemDisabledGroup', 'MaxGroupOwnable': '-1'},\n",
       " {'id': 'SRIChampItemDisabledGroup1', 'MaxGroupOwnable': '-1'},\n",
       " {'id': 'SiegeEmergencyShieldGroup', 'MaxGroupOwnable': '-1'},\n",
       " {'id': 'SiegeFlashZoneGroup', 'MaxGroupOwnable': '-1'},\n",
       " {'id': 'SiegeLaserAffixGroup', 'MaxGroupOwnable': '-1'},\n",
       " {'id': 'SiegeMissileBarrageGroup', 'MaxGroupOwnable': '-1'},\n",
       " {'id': 'SiegePortableBarracksGroup', 'MaxGroupOwnable': '-1'},\n",
       " {'id': 'SiegeRefundGroup', 'MaxGroupOwnable': '-1'},\n",
       " {'id': 'SiegeShieldGeneratorGroup', 'MaxGroupOwnable': '-1'},\n",
       " {'id': 'SiegeSniperCannonGroup', 'MaxGroupOwnable': '-1'},\n",
       " {'id': 'SiegeTeleportPadGroup', 'MaxGroupOwnable': '-1'},\n",
       " {'id': 'SiegeTimefieldGroup', 'MaxGroupOwnable': '-1'},\n",
       " {'id': 'SightstoneActiveItems', 'MaxGroupOwnable': '1'},\n",
       " {'id': 'SightstoneDisableGroup', 'MaxGroupOwnable': '0'},\n",
       " {'id': 'StopwatchGroup', 'MaxGroupOwnable': '-1'},\n",
       " {'id': 'TearItems', 'MaxGroupOwnable': '1'},\n",
       " {'id': 'TheBlackSpear', 'MaxGroupOwnable': '1'},\n",
       " {'id': 'TotalBiscuit', 'MaxGroupOwnable': '0'},\n",
       " {'id': 'Trinket', 'MaxGroupOwnable': '-1'},\n",
       " {'id': '3001', 'MaxGroupOwnable': '1'},\n",
       " {'id': '3011', 'MaxGroupOwnable': '1'},\n",
       " {'id': '3026', 'MaxGroupOwnable': '1'},\n",
       " {'id': '3033', 'MaxGroupOwnable': '1'},\n",
       " {'id': '3046', 'MaxGroupOwnable': '1'},\n",
       " {'id': '3050', 'MaxGroupOwnable': '1'},\n",
       " {'id': '3065', 'MaxGroupOwnable': '1'},\n",
       " {'id': '3071', 'MaxGroupOwnable': '1'},\n",
       " {'id': '3072', 'MaxGroupOwnable': '1'},\n",
       " {'id': '3075', 'MaxGroupOwnable': '1'},\n",
       " {'id': '3083', 'MaxGroupOwnable': '1'},\n",
       " {'id': '3085', 'MaxGroupOwnable': '1'},\n",
       " {'id': '3089', 'MaxGroupOwnable': '1'},\n",
       " {'id': '3091', 'MaxGroupOwnable': '1'},\n",
       " {'id': '3094', 'MaxGroupOwnable': '1'},\n",
       " {'id': '3095', 'MaxGroupOwnable': '1'},\n",
       " {'id': '3100', 'MaxGroupOwnable': '1'},\n",
       " {'id': '3102', 'MaxGroupOwnable': '1'},\n",
       " {'id': '3107', 'MaxGroupOwnable': '1'},\n",
       " {'id': '3109', 'MaxGroupOwnable': '1'},\n",
       " {'id': '3110', 'MaxGroupOwnable': '1'},\n",
       " {'id': '3115', 'MaxGroupOwnable': '1'},\n",
       " {'id': '3116', 'MaxGroupOwnable': '1'},\n",
       " {'id': '3142', 'MaxGroupOwnable': '1'},\n",
       " {'id': '3143', 'MaxGroupOwnable': '1'},\n",
       " {'id': '3153', 'MaxGroupOwnable': '1'},\n",
       " {'id': '3157', 'MaxGroupOwnable': '1'},\n",
       " {'id': '3165', 'MaxGroupOwnable': '1'},\n",
       " {'id': '3179', 'MaxGroupOwnable': '1'},\n",
       " {'id': '3181', 'MaxGroupOwnable': '1'},\n",
       " {'id': '3193', 'MaxGroupOwnable': '1'},\n",
       " {'id': '3222', 'MaxGroupOwnable': '1'},\n",
       " {'id': '3504', 'MaxGroupOwnable': '1'},\n",
       " {'id': '3508', 'MaxGroupOwnable': '1'},\n",
       " {'id': '3742', 'MaxGroupOwnable': '1'},\n",
       " {'id': '3814', 'MaxGroupOwnable': '1'},\n",
       " {'id': '4401', 'MaxGroupOwnable': '1'},\n",
       " {'id': '4403', 'MaxGroupOwnable': '1'},\n",
       " {'id': '4628', 'MaxGroupOwnable': '1'},\n",
       " {'id': '4629', 'MaxGroupOwnable': '1'},\n",
       " {'id': '4637', 'MaxGroupOwnable': '1'},\n",
       " {'id': '6333', 'MaxGroupOwnable': '1'},\n",
       " {'id': '6609', 'MaxGroupOwnable': '1'},\n",
       " {'id': '6616', 'MaxGroupOwnable': '1'},\n",
       " {'id': '6675', 'MaxGroupOwnable': '1'},\n",
       " {'id': '6676', 'MaxGroupOwnable': '1'},\n",
       " {'id': '6695', 'MaxGroupOwnable': '1'},\n",
       " {'id': 'ViktorHexCore', 'MaxGroupOwnable': '1'},\n",
       " {'id': 'VoidPen', 'MaxGroupOwnable': '1'},\n",
       " {'id': 'WardGreen', 'MaxGroupOwnable': '1'},\n",
       " {'id': 'WardPink', 'MaxGroupOwnable': '1'}]"
      ]
     },
     "metadata": {},
     "execution_count": 13
    }
   ],
   "source": [
    "data['groups']"
   ]
  },
  {
   "cell_type": "code",
   "execution_count": 14,
   "metadata": {},
   "outputs": [
    {
     "output_type": "execute_result",
     "data": {
      "text/plain": [
       "[{'header': 'START', 'tags': ['LANE', 'JUNGLE']},\n",
       " {'header': 'TOOLS', 'tags': ['GOLDPER', 'CONSUMABLE', 'VISION']},\n",
       " {'header': 'DEFENSE',\n",
       "  'tags': ['HEALTH', 'HEALTHREGEN', 'ARMOR', 'SPELLBLOCK']},\n",
       " {'header': 'ATTACK',\n",
       "  'tags': ['LIFESTEAL', 'CRITICALSTRIKE', 'ATTACKSPEED', 'DAMAGE']},\n",
       " {'header': 'MAGIC',\n",
       "  'tags': ['MANA', 'SPELLDAMAGE', 'COOLDOWNREDUCTION', 'MANAREGEN']},\n",
       " {'header': 'MOVEMENT', 'tags': ['BOOTS', 'NONBOOTSMOVEMENT']},\n",
       " {'header': 'UNCATEGORIZED',\n",
       "  'tags': ['ACTIVE',\n",
       "   'MAGICPENETRATION',\n",
       "   'ARMORPENETRATION',\n",
       "   'AURA',\n",
       "   'ONHIT',\n",
       "   'TRINKET',\n",
       "   'SLOW',\n",
       "   'STEALTH',\n",
       "   'SPELLVAMP',\n",
       "   'TENACITY']}]"
      ]
     },
     "metadata": {},
     "execution_count": 14
    }
   ],
   "source": [
    "data['tree']"
   ]
  },
  {
   "cell_type": "code",
   "execution_count": 16,
   "metadata": {},
   "outputs": [
    {
     "output_type": "execute_result",
     "data": {
      "text/plain": [
       "{'name': \"Zhonya's Hourglass\",\n",
       " 'description': '<mainText><stats><attention> 65</attention> Ability Power<br><attention> 45</attention> Armor<br><attention> 10</attention> Ability Haste</stats><br><br> <active>Active -</active> <active>Stasis:</active> You become <status>Invulnerable</status> and <status>Untargetable</status> for 2.5 seconds, but are prevented from taking any other actions during this time (120s cooldown).</mainText><br>',\n",
       " 'colloq': ';zhg;zonyas',\n",
       " 'plaintext': 'Activate to become invincible but unable to take actions',\n",
       " 'from': ['3191', '2420', '3108'],\n",
       " 'image': {'full': '3157.png',\n",
       "  'sprite': 'item1.png',\n",
       "  'group': 'item',\n",
       "  'x': 336,\n",
       "  'y': 48,\n",
       "  'w': 48,\n",
       "  'h': 48},\n",
       " 'gold': {'base': 50, 'purchasable': True, 'total': 2600, 'sell': 1820},\n",
       " 'tags': ['Armor',\n",
       "  'SpellDamage',\n",
       "  'Active',\n",
       "  'CooldownReduction',\n",
       "  'AbilityHaste'],\n",
       " 'maps': {'11': True, '12': True, '21': True, '22': False},\n",
       " 'stats': {'FlatMagicDamageMod': 65, 'FlatArmorMod': 45},\n",
       " 'effect': {'Effect1Amount': '0',\n",
       "  'Effect2Amount': '2.5',\n",
       "  'Effect3Amount': '120'},\n",
       " 'depth': 3}"
      ]
     },
     "metadata": {},
     "execution_count": 16
    }
   ],
   "source": [
    "data['data']['3157']"
   ]
  },
  {
   "cell_type": "code",
   "execution_count": 19,
   "metadata": {},
   "outputs": [
    {
     "output_type": "execute_result",
     "data": {
      "text/plain": [
       "  item_id  total_price\n",
       "0    1001          300\n",
       "1    1004          250\n",
       "2    1006          150\n",
       "3    1011          900\n",
       "4    1018          600"
      ],
      "text/html": "<div>\n<style scoped>\n    .dataframe tbody tr th:only-of-type {\n        vertical-align: middle;\n    }\n\n    .dataframe tbody tr th {\n        vertical-align: top;\n    }\n\n    .dataframe thead th {\n        text-align: right;\n    }\n</style>\n<table border=\"1\" class=\"dataframe\">\n  <thead>\n    <tr style=\"text-align: right;\">\n      <th></th>\n      <th>item_id</th>\n      <th>total_price</th>\n    </tr>\n  </thead>\n  <tbody>\n    <tr>\n      <th>0</th>\n      <td>1001</td>\n      <td>300</td>\n    </tr>\n    <tr>\n      <th>1</th>\n      <td>1004</td>\n      <td>250</td>\n    </tr>\n    <tr>\n      <th>2</th>\n      <td>1006</td>\n      <td>150</td>\n    </tr>\n    <tr>\n      <th>3</th>\n      <td>1011</td>\n      <td>900</td>\n    </tr>\n    <tr>\n      <th>4</th>\n      <td>1018</td>\n      <td>600</td>\n    </tr>\n  </tbody>\n</table>\n</div>"
     },
     "metadata": {},
     "execution_count": 19
    }
   ],
   "source": [
    "\n",
    "d = []\n",
    "for k in data['data']:\n",
    "    d.append({\n",
    "        'item_id': k,\n",
    "        'total_price': data['data'][k]['gold']['total']\n",
    "    })\n",
    "df = pd.DataFrame(d)\n",
    "df.head()"
   ]
  },
  {
   "cell_type": "code",
   "execution_count": null,
   "metadata": {},
   "outputs": [],
   "source": []
  }
 ]
}