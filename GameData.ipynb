{
 "metadata": {
  "language_info": {
   "codemirror_mode": {
    "name": "ipython",
    "version": 3
   },
   "file_extension": ".py",
   "mimetype": "text/x-python",
   "name": "python",
   "nbconvert_exporter": "python",
   "pygments_lexer": "ipython3",
   "version": "3.8.6-final"
  },
  "orig_nbformat": 2,
  "kernelspec": {
   "name": "python386jvsc74a57bd0adec68d5d8f86c04e00bdfcc272eb9a1a320647350f49cbe1ec4dd83b70c43c6",
   "display_name": "Python 3.8.6 64-bit ('WilyLynx': virtualenv)"
  }
 },
 "nbformat": 4,
 "nbformat_minor": 2,
 "cells": [
  {
   "cell_type": "code",
   "execution_count": 38,
   "metadata": {},
   "outputs": [],
   "source": [
    "import json\n",
    "import requests\n",
    "import pandas as pd"
   ]
  },
  {
   "cell_type": "code",
   "execution_count": 35,
   "metadata": {},
   "outputs": [
    {
     "output_type": "stream",
     "name": "stderr",
     "text": [
      "C:\\Users\\WilyLynx\\miniconda3\\lib\\site-packages\\urllib3\\connectionpool.py:842: InsecureRequestWarning: Unverified HTTPS request is being made. Adding certificate verification is strongly advised. See: https://urllib3.readthedocs.io/en/latest/advanced-usage.html#ssl-warnings\n  warnings.warn((\n"
     ]
    }
   ],
   "source": [
    "f = requests.get('https://127.0.0.1:2999/liveclientdata/allgamedata', verify=False).text\n",
    "data = json.loads(f)"
   ]
  },
  {
   "cell_type": "code",
   "execution_count": 36,
   "metadata": {},
   "outputs": [
    {
     "output_type": "stream",
     "name": "stdout",
     "text": [
      "{\n\t\"activePlayer\": {\n\t\t\"abilities\": {\n\t\t\t\"E\": {\n\t\t\t\t\"abilityLevel\": 0,\n\t\t\t\t\"displayName\": \"90 Caliber Net\",\n\t\t\t\t\"id\": \"CaitlynEntrapment\",\n\t\t\t\t\"rawDescription\": \"GeneratedTip_Spell_CaitlynEntrapment_Description\",\n\t\t\t\t\"rawDisplayName\": \"GeneratedTip_Spell_CaitlynEntrapment_DisplayName\"\n\t\t\t},\n\t\t\t\"Passive\": {\n\t\t\t\t\"displayName\": \"Headshot\",\n\t\t\t\t\"id\": \"CaitlynP\",\n\t\t\t\t\"rawDescription\": \"GeneratedTip_Passive_CaitlynP_Description\",\n\t\t\t\t\"rawDisplayName\": \"GeneratedTip_Passive_CaitlynP_DisplayName\"\n\t\t\t},\n\t\t\t\"Q\": {\n\t\t\t\t\"abilityLevel\": 0,\n\t\t\t\t\"displayName\": \"Piltover Peacemaker\",\n\t\t\t\t\"id\": \"CaitlynPiltoverPeacemaker\",\n\t\t\t\t\"rawDescription\": \"GeneratedTip_Spell_CaitlynPiltoverPeacemaker_Description\",\n\t\t\t\t\"rawDisplayName\": \"GeneratedTip_Spell_CaitlynPiltoverPeacemaker_DisplayName\"\n\t\t\t},\n\t\t\t\"R\": {\n\t\t\t\t\"abilityLevel\": 0,\n\t\t\t\t\"displayName\": \"Ace in the Hole\",\n\t\t\t\t\"id\": \"CaitlynAceintheHole\",\n\t\t\t\t\"rawDescription\": \"GeneratedTip_Spell_CaitlynAceintheHole_Description\",\n\t\t\t\t\"rawDisplayName\": \"GeneratedTip_Spell_CaitlynAceintheHole_DisplayName\"\n\t\t\t},\n\t\t\t\"W\": {\n\t\t\t\t\"abilityLevel\": 0,\n\t\t\t\t\"displayName\": \"Yordle Snap Trap\",\n\t\t\t\t\"id\": \"CaitlynYordleTrap\",\n\t\t\t\t\"rawDescription\": \"GeneratedTip_Spell_CaitlynYordleTrap_Description\",\n\t\t\t\t\"rawDisplayName\": \"GeneratedTip_Spell_CaitlynYordleTrap_DisplayName\"\n\t\t\t}\n\t\t},\n\t\t\"championStats\": {\n\t\t\t\"abilityHaste\": 10.0,\n\t\t\t\"abilityPower\": 0.0,\n\t\t\t\"armor\": 28.0,\n\t\t\t\"armorPenetrationFlat\": 0.0,\n\t\t\t\"armorPenetrationPercent\": 1.0,\n\t\t\t\"attackDamage\": 92.4000015258789,\n\t\t\t\"attackRange\": 650.0,\n\t\t\t\"attackSpeed\": 0.6809999942779541,\n\t\t\t\"bonusArmorPenetrationPercent\": 1.0,\n\t\t\t\"bonusMagicPenetrationPercent\": 1.0,\n\t\t\t\"cooldownReduction\": 0.0,\n\t\t\t\"critChance\": 0.0,\n\t\t\t\"critDamage\": 175.0,\n\t\t\t\"currentHealth\": 510.0,\n\t\t\t\"healthRegenRate\": 0.699999988079071,\n\t\t\t\"lifeSteal\": 0.0,\n\t\t\t\"magicLethality\": 0.0,\n\t\t\t\"magicPenetrationFlat\": 0.0,\n\t\t\t\"magicPenetrationPercent\": 1.0,\n\t\t\t\"magicResist\": 46.0,\n\t\t\t\"maxHealth\": 510.0,\n\t\t\t\"moveSpeed\": 325.0,\n\t\t\t\"physicalLethality\": 0.0,\n\t\t\t\"resourceMax\": 315.0,\n\t\t\t\"resourceRegenRate\": 1.4800000190734864,\n\t\t\t\"resourceType\": \"MANA\",\n\t\t\t\"resourceValue\": 315.0,\n\t\t\t\"spellVamp\": 0.0,\n\t\t\t\"tenacity\": 0.0\n\t\t},\n\t\t\"currentGold\": 45387.2421875,\n\t\t\"fullRunes\": {\n\t\t\t\"generalRunes\": [\n\t\t\t\t{\n\t\t\t\t\t\"displayName\": \"Conqueror\",\n\t\t\t\t\t\"id\": 8010,\n\t\t\t\t\t\"rawDescription\": \"perk_tooltip_Conqueror\",\n\t\t\t\t\t\"rawDisplayName\": \"perk_displayname_Conqueror\"\n\t\t\t\t},\n\t\t\t\t{\n\t\t\t\t\t\"displayName\": \"Triumph\",\n\t\t\t\t\t\"id\": 9111,\n\t\t\t\t\t\"rawDescription\": \"perk_tooltip_9111\",\n\t\t\t\t\t\"rawDisplayName\": \"perk_displayname_9111\"\n\t\t\t\t},\n\t\t\t\t{\n\t\t\t\t\t\"displayName\": \"Legend: Bloodline\",\n\t\t\t\t\t\"id\": 9103,\n\t\t\t\t\t\"rawDescription\": \"perk_tooltip_9103\",\n\t\t\t\t\t\"rawDisplayName\": \"perk_displayname_9103\"\n\t\t\t\t},\n\t\t\t\t{\n\t\t\t\t\t\"displayName\": \"Coup de Grace\",\n\t\t\t\t\t\"id\": 8014,\n\t\t\t\t\t\"rawDescription\": \"perk_tooltip_CoupDeGrace\",\n\t\t\t\t\t\"rawDisplayName\": \"perk_displayname_CoupDeGrace\"\n\t\t\t\t},\n\t\t\t\t{\n\t\t\t\t\t\"displayName\": \"Taste of Blood\",\n\t\t\t\t\t\"id\": 8139,\n\t\t\t\t\t\"rawDescription\": \"perk_tooltip_TasteOfBlood\",\n\t\t\t\t\t\"rawDisplayName\": \"perk_displayname_TasteOfBlood\"\n\t\t\t\t},\n\t\t\t\t{\n\t\t\t\t\t\"displayName\": \"Ravenous Hunter\",\n\t\t\t\t\t\"id\": 8135,\n\t\t\t\t\t\"rawDescription\": \"perk_tooltip_RavenousHunter\",\n\t\t\t\t\t\"rawDisplayName\": \"perk_displayname_RavenousHunter\"\n\t\t\t\t}\n\t\t\t],\n\t\t\t\"keystone\": {\n\t\t\t\t\"displayName\": \"Conqueror\",\n\t\t\t\t\"id\": 8010,\n\t\t\t\t\"rawDescription\": \"perk_tooltip_Conqueror\",\n\t\t\t\t\"rawDisplayName\": \"perk_displayname_Conqueror\"\n\t\t\t},\n\t\t\t\"primaryRuneTree\": {\n\t\t\t\t\"displayName\": \"Precision\",\n\t\t\t\t\"id\": 8000,\n\t\t\t\t\"rawDescription\": \"perkstyle_tooltip_7201\",\n\t\t\t\t\"rawDisplayName\": \"perkstyle_displayname_7201\"\n\t\t\t},\n\t\t\t\"secondaryRuneTree\": {\n\t\t\t\t\"displayName\": \"Domination\",\n\t\t\t\t\"id\": 8100,\n\t\t\t\t\"rawDescription\": \"perkstyle_tooltip_7200\",\n\t\t\t\t\"rawDisplayName\": \"perkstyle_displayname_7200\"\n\t\t\t},\n\t\t\t\"statRunes\": [\n\t\t\t\t{\n\t\t\t\t\t\"id\": 5008,\n\t\t\t\t\t\"rawDescription\": \"perk_tooltip_StatModAdaptive\"\n\t\t\t\t},\n\t\t\t\t{\n\t\t\t\t\t\"id\": 5003,\n\t\t\t\t\t\"rawDescription\": \"perk_tooltip_StatModMagicResist\"\n\t\t\t\t},\n\t\t\t\t{\n\t\t\t\t\t\"id\": 5003,\n\t\t\t\t\t\"rawDescription\": \"perk_tooltip_StatModMagicResist\"\n\t\t\t\t}\n\t\t\t]\n\t\t},\n\t\t\"level\": 1,\n\t\t\"summonerName\": \"WilyLynx\"\n\t},\n\t\"allPlayers\": [\n\t\t{\n\t\t\t\"championName\": \"Caitlyn\",\n\t\t\t\"isBot\": false,\n\t\t\t\"isDead\": false,\n\t\t\t\"items\": [\n\t\t\t\t{\n\t\t\t\t\t\"canUse\": false,\n\t\t\t\t\t\"consumable\": false,\n\t\t\t\t\t\"count\": 1,\n\t\t\t\t\t\"displayName\": \"Caulfield's Warhammer\",\n\t\t\t\t\t\"itemID\": 3133,\n\t\t\t\t\t\"price\": 400,\n\t\t\t\t\t\"rawDescription\": \"GeneratedTip_Item_3133_Description\",\n\t\t\t\t\t\"rawDisplayName\": \"Item_3133_Name\",\n\t\t\t\t\t\"slot\": 0\n\t\t\t\t}\n\t\t\t],\n\t\t\t\"level\": 1,\n\t\t\t\"position\": \"\",\n\t\t\t\"rawChampionName\": \"game_character_displayname_Caitlyn\",\n\t\t\t\"respawnTimer\": 0.0,\n\t\t\t\"runes\": {\n\t\t\t\t\"keystone\": {\n\t\t\t\t\t\"displayName\": \"Conqueror\",\n\t\t\t\t\t\"id\": 8010,\n\t\t\t\t\t\"rawDescription\": \"perk_tooltip_Conqueror\",\n\t\t\t\t\t\"rawDisplayName\": \"perk_displayname_Conqueror\"\n\t\t\t\t},\n\t\t\t\t\"primaryRuneTree\": {\n\t\t\t\t\t\"displayName\": \"Precision\",\n\t\t\t\t\t\"id\": 8000,\n\t\t\t\t\t\"rawDescription\": \"perkstyle_tooltip_7201\",\n\t\t\t\t\t\"rawDisplayName\": \"perkstyle_displayname_7201\"\n\t\t\t\t},\n\t\t\t\t\"secondaryRuneTree\": {\n\t\t\t\t\t\"displayName\": \"Domination\",\n\t\t\t\t\t\"id\": 8100,\n\t\t\t\t\t\"rawDescription\": \"perkstyle_tooltip_7200\",\n\t\t\t\t\t\"rawDisplayName\": \"perkstyle_displayname_7200\"\n\t\t\t\t}\n\t\t\t},\n\t\t\t\"scores\": {\n\t\t\t\t\"assists\": 0,\n\t\t\t\t\"creepScore\": 0,\n\t\t\t\t\"deaths\": 0,\n\t\t\t\t\"kills\": 0,\n\t\t\t\t\"wardScore\": 0.0\n\t\t\t},\n\t\t\t\"skinID\": 0,\n\t\t\t\"summonerName\": \"WilyLynx\",\n\t\t\t\"summonerSpells\": {\n\t\t\t\t\"summonerSpellOne\": {\n\t\t\t\t\t\"displayName\": \"Exhaust\",\n\t\t\t\t\t\"rawDescription\": \"GeneratedTip_SummonerSpell_SummonerExhaust_Description\",\n\t\t\t\t\t\"rawDisplayName\": \"GeneratedTip_SummonerSpell_SummonerExhaust_DisplayName\"\n\t\t\t\t},\n\t\t\t\t\"summonerSpellTwo\": {\n\t\t\t\t\t\"displayName\": \"Flash\",\n\t\t\t\t\t\"rawDescription\": \"GeneratedTip_SummonerSpell_SummonerFlash_Description\",\n\t\t\t\t\t\"rawDisplayName\": \"GeneratedTip_SummonerSpell_SummonerFlash_DisplayName\"\n\t\t\t\t}\n\t\t\t},\n\t\t\t\"team\": \"ORDER\"\n\t\t}\n\t],\n\t\"events\": {\n\t\t\"Events\": [\n\t\t\t{\n\t\t\t\t\"EventID\": 0,\n\t\t\t\t\"EventName\": \"GameStart\",\n\t\t\t\t\"EventTime\": 0.01713775470852852\n\t\t\t},\n\t\t\t{\n\t\t\t\t\"EventID\": 1,\n\t\t\t\t\"EventName\": \"MinionsSpawning\",\n\t\t\t\t\"EventTime\": 65.03271484375\n\t\t\t}\n\t\t]\n\t},\n\t\"gameData\": {\n\t\t\"gameMode\": \"PRACTICETOOL\",\n\t\t\"gameTime\": 576.768310546875,\n\t\t\"mapName\": \"Map11\",\n\t\t\"mapNumber\": 11,\n\t\t\"mapTerrain\": \"Default\"\n\t}\n}\n"
     ]
    }
   ],
   "source": [
    "print(f)"
   ]
  },
  {
   "cell_type": "code",
   "execution_count": 33,
   "metadata": {},
   "outputs": [
    {
     "output_type": "stream",
     "name": "stdout",
     "text": [
      "championName :Caitlyn\nisBot :False\nisDead :False\nitems :[{'canUse': False, 'consumable': False, 'count': 1, 'displayName': 'Zeal', 'itemID': 3086, 'price': 150, 'rawDescription': 'GeneratedTip_Item_3086_Description', 'rawDisplayName': 'Item_3086_Name', 'slot': 0}]\nlevel :1\nposition :\nrawChampionName :game_character_displayname_Caitlyn\nrespawnTimer :0.0\nrunes :{'keystone': {'displayName': 'Conqueror', 'id': 8010, 'rawDescription': 'perk_tooltip_Conqueror', 'rawDisplayName': 'perk_displayname_Conqueror'}, 'primaryRuneTree': {'displayName': 'Precision', 'id': 8000, 'rawDescription': 'perkstyle_tooltip_7201', 'rawDisplayName': 'perkstyle_displayname_7201'}, 'secondaryRuneTree': {'displayName': 'Domination', 'id': 8100, 'rawDescription': 'perkstyle_tooltip_7200', 'rawDisplayName': 'perkstyle_displayname_7200'}}\nscores :{'assists': 0, 'creepScore': 0, 'deaths': 0, 'kills': 0, 'wardScore': 0.0}\nskinID :0\nsummonerName :WilyLynx\nsummonerSpells :{'summonerSpellOne': {'displayName': 'Exhaust', 'rawDescription': 'GeneratedTip_SummonerSpell_SummonerExhaust_Description', 'rawDisplayName': 'GeneratedTip_SummonerSpell_SummonerExhaust_DisplayName'}, 'summonerSpellTwo': {'displayName': 'Flash', 'rawDescription': 'GeneratedTip_SummonerSpell_SummonerFlash_Description', 'rawDisplayName': 'GeneratedTip_SummonerSpell_SummonerFlash_DisplayName'}}\nteam :ORDER\n"
     ]
    }
   ],
   "source": [
    "for k,v in data['allPlayers'][0].items():\n",
    "    print(k+' :'+str(v))"
   ]
  },
  {
   "cell_type": "code",
   "execution_count": 32,
   "metadata": {},
   "outputs": [
    {
     "output_type": "stream",
     "name": "stdout",
     "text": [
      "{'canUse': False, 'consumable': False, 'count': 1, 'displayName': 'Zeal', 'itemID': 3086, 'price': 150, 'rawDescription': 'GeneratedTip_Item_3086_Description', 'rawDisplayName': 'Item_3086_Name', 'slot': 0}\n\n"
     ]
    }
   ],
   "source": [
    "p0_items = data['allPlayers'][0]['items']\n",
    "for i in p0_items:\n",
    "    print(str(i)+'\\n')"
   ]
  },
  {
   "cell_type": "code",
   "execution_count": 27,
   "metadata": {},
   "outputs": [
    {
     "output_type": "stream",
     "name": "stdout",
     "text": [
      "300\n"
     ]
    }
   ],
   "source": [
    "bank = sum([i['price'] for i in p0_items])\n",
    "print(bank)"
   ]
  },
  {
   "cell_type": "code",
   "execution_count": 56,
   "metadata": {},
   "outputs": [
    {
     "output_type": "execute_result",
     "data": {
      "text/plain": [
       "         total_price\n",
       "item_id             \n",
       "1001             300\n",
       "1004             250\n",
       "1006             150\n",
       "1011             900\n",
       "1018             600"
      ],
      "text/html": "<div>\n<style scoped>\n    .dataframe tbody tr th:only-of-type {\n        vertical-align: middle;\n    }\n\n    .dataframe tbody tr th {\n        vertical-align: top;\n    }\n\n    .dataframe thead th {\n        text-align: right;\n    }\n</style>\n<table border=\"1\" class=\"dataframe\">\n  <thead>\n    <tr style=\"text-align: right;\">\n      <th></th>\n      <th>total_price</th>\n    </tr>\n    <tr>\n      <th>item_id</th>\n      <th></th>\n    </tr>\n  </thead>\n  <tbody>\n    <tr>\n      <th>1001</th>\n      <td>300</td>\n    </tr>\n    <tr>\n      <th>1004</th>\n      <td>250</td>\n    </tr>\n    <tr>\n      <th>1006</th>\n      <td>150</td>\n    </tr>\n    <tr>\n      <th>1011</th>\n      <td>900</td>\n    </tr>\n    <tr>\n      <th>1018</th>\n      <td>600</td>\n    </tr>\n  </tbody>\n</table>\n</div>"
     },
     "metadata": {},
     "execution_count": 56
    }
   ],
   "source": [
    "with open('item.json', 'r') as f:\n",
    "    data = json.load(f)\n",
    "d = []\n",
    "for k in data['data']:\n",
    "    d.append({\n",
    "        'item_id': k,\n",
    "        'total_price': data['data'][k]['gold']['total']\n",
    "    })\n",
    "items_df = pd.DataFrame(d)\n",
    "items_df['item_id'] = items_df['item_id'].astype(int)\n",
    "items_df = items_df.set_index('item_id')\n",
    "items_df.head()"
   ]
  },
  {
   "cell_type": "code",
   "execution_count": 61,
   "metadata": {},
   "outputs": [
    {
     "output_type": "stream",
     "name": "stdout",
     "text": [
      "total_price    3400\n",
      "dtype: int64\n",
      "C:\\Users\\WilyLynx\\miniconda3\\lib\\site-packages\\urllib3\\connectionpool.py:842: InsecureRequestWarning: Unverified HTTPS request is being made. Adding certificate verification is strongly advised. See: https://urllib3.readthedocs.io/en/latest/advanced-usage.html#ssl-warnings\n",
      "  warnings.warn((\n"
     ]
    }
   ],
   "source": [
    "f = requests.get('https://127.0.0.1:2999/liveclientdata/allgamedata', verify=False).text\n",
    "data = json.loads(f)\n",
    "p0_items_ids = [i['itemID'] for i in data['allPlayers'][0]['items']]\n",
    "bank = items_df[items_df.index.isin(p0_items_ids)].sum()\n",
    "print(bank)"
   ]
  },
  {
   "cell_type": "code",
   "execution_count": 52,
   "metadata": {},
   "outputs": [
    {
     "output_type": "execute_result",
     "data": {
      "text/plain": [
       "total_price    3400\n",
       "Name: 3031, dtype: int64"
      ]
     },
     "metadata": {},
     "execution_count": 52
    }
   ],
   "source": [
    "items_df.loc['3031']"
   ]
  },
  {
   "cell_type": "code",
   "execution_count": 50,
   "metadata": {},
   "outputs": [
    {
     "output_type": "stream",
     "name": "stdout",
     "text": [
      "1001\n1004\n1006\n1011\n1018\n1026\n1027\n1028\n1029\n1031\n1033\n1035\n1036\n1037\n1038\n1039\n1042\n1043\n1052\n1053\n1054\n1055\n1056\n1057\n1058\n1082\n1083\n2003\n2010\n2015\n2031\n2033\n2051\n2052\n2055\n2065\n2138\n2139\n2140\n2403\n2419\n2420\n2421\n2422\n2423\n2424\n3001\n3003\n3004\n3006\n3009\n3011\n3020\n3024\n3026\n3031\n3033\n3035\n3036\n3040\n3041\n3042\n3044\n3046\n3047\n3050\n3051\n3053\n3057\n3065\n3066\n3067\n3068\n3070\n3071\n3072\n3074\n3075\n3076\n3077\n3078\n3082\n3083\n3085\n3086\n3089\n3091\n3094\n3095\n3100\n3102\n3105\n3107\n3108\n3109\n3110\n3111\n3112\n3113\n3114\n3115\n3116\n3117\n3123\n3124\n3133\n3134\n3135\n3139\n3140\n3142\n3143\n3145\n3152\n3153\n3155\n3156\n3157\n3158\n3165\n3177\n3179\n3181\n3184\n3190\n3191\n3193\n3211\n3222\n3330\n3340\n3363\n3364\n3400\n3504\n3508\n3513\n3599\n3600\n3742\n3748\n3801\n3802\n3814\n3850\n3851\n3853\n3854\n3855\n3857\n3858\n3859\n3860\n3862\n3863\n3864\n3916\n4005\n4401\n4403\n4628\n4629\n4630\n4632\n4633\n4635\n4636\n4637\n4638\n4641\n4642\n4643\n6029\n6035\n6333\n6609\n6616\n6617\n6630\n6631\n6632\n6653\n6655\n6656\n6660\n6662\n6664\n6670\n6671\n6672\n6673\n6675\n6676\n6677\n6691\n6692\n6693\n6694\n6695\nobject\n"
     ]
    }
   ],
   "source": [
    "for p in items_df.index:\n",
    "    print(p)"
   ]
  }
 ]
}